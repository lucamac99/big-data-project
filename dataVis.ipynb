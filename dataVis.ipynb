{
 "cells": [
  {
   "cell_type": "code",
   "execution_count": 49,
   "metadata": {},
   "outputs": [
    {
     "data": {
      "text/html": [
       "<div>\n",
       "<style scoped>\n",
       "    .dataframe tbody tr th:only-of-type {\n",
       "        vertical-align: middle;\n",
       "    }\n",
       "\n",
       "    .dataframe tbody tr th {\n",
       "        vertical-align: top;\n",
       "    }\n",
       "\n",
       "    .dataframe thead th {\n",
       "        text-align: right;\n",
       "    }\n",
       "</style>\n",
       "<table border=\"1\" class=\"dataframe\">\n",
       "  <thead>\n",
       "    <tr style=\"text-align: right;\">\n",
       "      <th></th>\n",
       "      <th>title</th>\n",
       "      <th>text-data</th>\n",
       "      <th>desktop-hidden 2</th>\n",
       "      <th>desktop-hidden 4</th>\n",
       "    </tr>\n",
       "  </thead>\n",
       "  <tbody>\n",
       "    <tr>\n",
       "      <th>0</th>\n",
       "      <td>0</td>\n",
       "      <td>0</td>\n",
       "      <td>0</td>\n",
       "      <td>0</td>\n",
       "    </tr>\n",
       "    <tr>\n",
       "      <th>1</th>\n",
       "      <td>Apartment for rent  in Roma Municipio IX – EUR...</td>\n",
       "      <td>43 m2 apartment for rent in Roma Municipio IX ...</td>\n",
       "      <td>830 EUR</td>\n",
       "      <td>43 m2</td>\n",
       "    </tr>\n",
       "    <tr>\n",
       "      <th>2</th>\n",
       "      <td>Apartment for rent  in Roma Municipio XII – Mo...</td>\n",
       "      <td>55 m2 apartment for rent in Roma Municipio XII...</td>\n",
       "      <td>800 EUR</td>\n",
       "      <td>55 m2</td>\n",
       "    </tr>\n",
       "    <tr>\n",
       "      <th>3</th>\n",
       "      <td>Apartment for rent  in Acilia-Castel Fusano-Os...</td>\n",
       "      <td>65 m2 apartment for rent in Acilia-Castel Fusa...</td>\n",
       "      <td>650 EUR</td>\n",
       "      <td>65 m2</td>\n",
       "    </tr>\n",
       "    <tr>\n",
       "      <th>4</th>\n",
       "      <td>Apartment for rent  in Roma Municipio I – Cent...</td>\n",
       "      <td>50 m2 apartment for rent in Roma Municipio I –...</td>\n",
       "      <td>850 EUR</td>\n",
       "      <td>50 m2</td>\n",
       "    </tr>\n",
       "    <tr>\n",
       "      <th>...</th>\n",
       "      <td>...</td>\n",
       "      <td>...</td>\n",
       "      <td>...</td>\n",
       "      <td>...</td>\n",
       "    </tr>\n",
       "    <tr>\n",
       "      <th>520</th>\n",
       "      <td>Apartment for rent  in Roma Municipio I – Cent...</td>\n",
       "      <td>Apartment for rent in Roma Municipio I – Centr...</td>\n",
       "      <td>2,000 EUR</td>\n",
       "      <td>0</td>\n",
       "    </tr>\n",
       "    <tr>\n",
       "      <th>521</th>\n",
       "      <td>Apartment for rent  in Milano Zona 1 - Centro ...</td>\n",
       "      <td>Apartment for rent in Milano Zona 1 - Centro s...</td>\n",
       "      <td>Not specified</td>\n",
       "      <td>0</td>\n",
       "    </tr>\n",
       "    <tr>\n",
       "      <th>522</th>\n",
       "      <td>Apartment for rent  in Milano Zona 1 - Centro ...</td>\n",
       "      <td>Apartment for rent in Milano Zona 1 - Centro s...</td>\n",
       "      <td>Not specified</td>\n",
       "      <td>0</td>\n",
       "    </tr>\n",
       "    <tr>\n",
       "      <th>523</th>\n",
       "      <td>Apartment for rent  in Milano Zona 1 - Centro ...</td>\n",
       "      <td>Apartment for rent in Milano Zona 1 - Centro s...</td>\n",
       "      <td>Not specified</td>\n",
       "      <td>0</td>\n",
       "    </tr>\n",
       "    <tr>\n",
       "      <th>524</th>\n",
       "      <td>Apartment for rent  in Milano Zona 1 - Centro ...</td>\n",
       "      <td>Apartment for rent in Milano Zona 1 - Centro s...</td>\n",
       "      <td>Not specified</td>\n",
       "      <td>0</td>\n",
       "    </tr>\n",
       "  </tbody>\n",
       "</table>\n",
       "<p>525 rows × 4 columns</p>\n",
       "</div>"
      ],
      "text/plain": [
       "                                                 title  \\\n",
       "0                                                    0   \n",
       "1    Apartment for rent  in Roma Municipio IX – EUR...   \n",
       "2    Apartment for rent  in Roma Municipio XII – Mo...   \n",
       "3    Apartment for rent  in Acilia-Castel Fusano-Os...   \n",
       "4    Apartment for rent  in Roma Municipio I – Cent...   \n",
       "..                                                 ...   \n",
       "520  Apartment for rent  in Roma Municipio I – Cent...   \n",
       "521  Apartment for rent  in Milano Zona 1 - Centro ...   \n",
       "522  Apartment for rent  in Milano Zona 1 - Centro ...   \n",
       "523  Apartment for rent  in Milano Zona 1 - Centro ...   \n",
       "524  Apartment for rent  in Milano Zona 1 - Centro ...   \n",
       "\n",
       "                                             text-data desktop-hidden 2  \\\n",
       "0                                                    0                0   \n",
       "1    43 m2 apartment for rent in Roma Municipio IX ...          830 EUR   \n",
       "2    55 m2 apartment for rent in Roma Municipio XII...          800 EUR   \n",
       "3    65 m2 apartment for rent in Acilia-Castel Fusa...          650 EUR   \n",
       "4    50 m2 apartment for rent in Roma Municipio I –...          850 EUR   \n",
       "..                                                 ...              ...   \n",
       "520  Apartment for rent in Roma Municipio I – Centr...        2,000 EUR   \n",
       "521  Apartment for rent in Milano Zona 1 - Centro s...    Not specified   \n",
       "522  Apartment for rent in Milano Zona 1 - Centro s...    Not specified   \n",
       "523  Apartment for rent in Milano Zona 1 - Centro s...    Not specified   \n",
       "524  Apartment for rent in Milano Zona 1 - Centro s...    Not specified   \n",
       "\n",
       "    desktop-hidden 4  \n",
       "0                  0  \n",
       "1              43 m2  \n",
       "2              55 m2  \n",
       "3              65 m2  \n",
       "4              50 m2  \n",
       "..               ...  \n",
       "520                0  \n",
       "521                0  \n",
       "522                0  \n",
       "523                0  \n",
       "524                0  \n",
       "\n",
       "[525 rows x 4 columns]"
      ]
     },
     "execution_count": 49,
     "metadata": {},
     "output_type": "execute_result"
    }
   ],
   "source": [
    "import pandas as pd\n",
    "from dataPreparation import data_preparation\n",
    "\n",
    "df_completo = data_preparation()\n",
    "\n",
    "# there are NAS, we replace them with 0\n",
    "df = df_completo.fillna(0)\n",
    "\n",
    "df"
   ]
  },
  {
   "cell_type": "code",
   "execution_count": 50,
   "metadata": {},
   "outputs": [
    {
     "name": "stdout",
     "output_type": "stream",
     "text": [
      "0        NaN\n",
      "1      Italy\n",
      "2      Italy\n",
      "3      Italy\n",
      "4      Italy\n",
      "       ...  \n",
      "520    Italy\n",
      "521    Italy\n",
      "522    Italy\n",
      "523    Italy\n",
      "524    Italy\n",
      "Name: Country, Length: 525, dtype: object\n"
     ]
    }
   ],
   "source": [
    "# create a new column with the countries by taking the last word of the column 'title'\n",
    "splitted = df['title'].str.split()\n",
    "df['Country'] = splitted.str[-1]\n",
    "\n",
    "print(df['Country'])"
   ]
  },
  {
   "cell_type": "code",
   "execution_count": 57,
   "metadata": {},
   "outputs": [
    {
     "name": "stdout",
     "output_type": "stream",
     "text": [
      "0              0\n",
      "1        830 EUR\n",
      "2        800 EUR\n",
      "3        650 EUR\n",
      "4        850 EUR\n",
      "         ...    \n",
      "520    2,000 EUR\n",
      "521            0\n",
      "522            0\n",
      "523            0\n",
      "524            0\n",
      "Name: price, Length: 525, dtype: object\n"
     ]
    }
   ],
   "source": [
    "# rename the columns and replace not specified prices with 0\n",
    "df.rename(columns={\"desktop-hidden 2\": \"price\", \"desktop-hidden 4\": \"surface\"}, inplace=True)\n",
    "df.replace(\"Not specified\", 0, inplace=True)\n",
    "df['price'] = df['price'].astype(str)\n",
    "\n",
    "print(df['price'])"
   ]
  },
  {
   "cell_type": "code",
   "execution_count": 58,
   "metadata": {},
   "outputs": [
    {
     "ename": "ValueError",
     "evalue": "Cannot mask with non-boolean array containing NA / NaN values",
     "output_type": "error",
     "traceback": [
      "\u001b[0;31m---------------------------------------------------------------------------\u001b[0m",
      "\u001b[0;31mValueError\u001b[0m                                Traceback (most recent call last)",
      "\u001b[1;32m/Users/luca/Desktop/Magistrale/Big Data Technologies/project/dataVis.ipynb Cell 4'\u001b[0m in \u001b[0;36m<cell line: 1>\u001b[0;34m()\u001b[0m\n\u001b[0;32m----> <a href='vscode-notebook-cell:/Users/luca/Desktop/Magistrale/Big%20Data%20Technologies/project/dataVis.ipynb#ch0000003?line=0'>1</a>\u001b[0m df[df\u001b[39m.\u001b[39;49mprice\u001b[39m.\u001b[39;49mstr\u001b[39m.\u001b[39;49mcontains(\u001b[39m'\u001b[39;49m\u001b[39mEUR\u001b[39;49m\u001b[39m'\u001b[39;49m)] \u001b[39m#.price.str.contains('EUR')\u001b[39;00m\n\u001b[1;32m      <a href='vscode-notebook-cell:/Users/luca/Desktop/Magistrale/Big%20Data%20Technologies/project/dataVis.ipynb#ch0000003?line=2'>3</a>\u001b[0m df[\u001b[39m\"\u001b[39m\u001b[39mprice\u001b[39m\u001b[39m\"\u001b[39m]\u001b[39m.\u001b[39mreplace({\u001b[39m\"\u001b[39m\u001b[39mSEK\u001b[39m\u001b[39m\"\u001b[39m: \u001b[39m\"\u001b[39m\u001b[39m/10\u001b[39m\u001b[39m\"\u001b[39m, \u001b[39m\"\u001b[39m\u001b[39mEUR\u001b[39m\u001b[39m\"\u001b[39m: \u001b[39m\"\u001b[39m\u001b[39m*1\u001b[39m\u001b[39m\"\u001b[39m, }, regex\u001b[39m=\u001b[39m\u001b[39mTrue\u001b[39;00m)\u001b[39m.\u001b[39mmap(pd\u001b[39m.\u001b[39meval)\n",
      "File \u001b[0;32m/usr/local/lib/python3.9/site-packages/pandas/core/frame.py:3495\u001b[0m, in \u001b[0;36mDataFrame.__getitem__\u001b[0;34m(self, key)\u001b[0m\n\u001b[1;32m   3492\u001b[0m     \u001b[39mreturn\u001b[39;00m \u001b[39mself\u001b[39m\u001b[39m.\u001b[39mwhere(key)\n\u001b[1;32m   3494\u001b[0m \u001b[39m# Do we have a (boolean) 1d indexer?\u001b[39;00m\n\u001b[0;32m-> 3495\u001b[0m \u001b[39mif\u001b[39;00m com\u001b[39m.\u001b[39;49mis_bool_indexer(key):\n\u001b[1;32m   3496\u001b[0m     \u001b[39mreturn\u001b[39;00m \u001b[39mself\u001b[39m\u001b[39m.\u001b[39m_getitem_bool_array(key)\n\u001b[1;32m   3498\u001b[0m \u001b[39m# We are left with two options: a single key, and a collection of keys,\u001b[39;00m\n\u001b[1;32m   3499\u001b[0m \u001b[39m# We interpret tuples as collections only for non-MultiIndex\u001b[39;00m\n",
      "File \u001b[0;32m/usr/local/lib/python3.9/site-packages/pandas/core/common.py:144\u001b[0m, in \u001b[0;36mis_bool_indexer\u001b[0;34m(key)\u001b[0m\n\u001b[1;32m    140\u001b[0m     na_msg \u001b[39m=\u001b[39m \u001b[39m\"\u001b[39m\u001b[39mCannot mask with non-boolean array containing NA / NaN values\u001b[39m\u001b[39m\"\u001b[39m\n\u001b[1;32m    141\u001b[0m     \u001b[39mif\u001b[39;00m lib\u001b[39m.\u001b[39minfer_dtype(key) \u001b[39m==\u001b[39m \u001b[39m\"\u001b[39m\u001b[39mboolean\u001b[39m\u001b[39m\"\u001b[39m \u001b[39mand\u001b[39;00m isna(key)\u001b[39m.\u001b[39many():\n\u001b[1;32m    142\u001b[0m         \u001b[39m# Don't raise on e.g. [\"A\", \"B\", np.nan], see\u001b[39;00m\n\u001b[1;32m    143\u001b[0m         \u001b[39m#  test_loc_getitem_list_of_labels_categoricalindex_with_na\u001b[39;00m\n\u001b[0;32m--> 144\u001b[0m         \u001b[39mraise\u001b[39;00m \u001b[39mValueError\u001b[39;00m(na_msg)\n\u001b[1;32m    145\u001b[0m     \u001b[39mreturn\u001b[39;00m \u001b[39mFalse\u001b[39;00m\n\u001b[1;32m    146\u001b[0m \u001b[39mreturn\u001b[39;00m \u001b[39mTrue\u001b[39;00m\n",
      "\u001b[0;31mValueError\u001b[0m: Cannot mask with non-boolean array containing NA / NaN values"
     ]
    }
   ],
   "source": [
    "#df[df.price.str.contains('EUR')] #.price.str.contains('EUR')\n",
    "\n",
    "#convert the price to € and remove the 'EUR'\n",
    "df[\"price\"].replace({\"SEK\": \"/10\", \"EUR\": \"*1\", }, regex=True).map(pd.eval)"
   ]
  }
 ],
 "metadata": {
  "kernelspec": {
   "display_name": "Python 3.9.12 64-bit",
   "language": "python",
   "name": "python3"
  },
  "language_info": {
   "codemirror_mode": {
    "name": "ipython",
    "version": 3
   },
   "file_extension": ".py",
   "mimetype": "text/x-python",
   "name": "python",
   "nbconvert_exporter": "python",
   "pygments_lexer": "ipython3",
   "version": "3.9.12"
  },
  "orig_nbformat": 4,
  "vscode": {
   "interpreter": {
    "hash": "aee8b7b246df8f9039afb4144a1f6fd8d2ca17a180786b69acc140d282b71a49"
   }
  }
 },
 "nbformat": 4,
 "nbformat_minor": 2
}
